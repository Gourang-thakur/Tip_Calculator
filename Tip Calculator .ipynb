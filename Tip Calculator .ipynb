{
 "cells": [
  {
   "cell_type": "markdown",
   "id": "33df4a2b",
   "metadata": {},
   "source": [
    "# Tip Calculator"
   ]
  },
  {
   "cell_type": "code",
   "execution_count": null,
   "id": "00f383a2",
   "metadata": {},
   "outputs": [],
   "source": [
    "print(\"welcome to the tip calculator\")\n"
   ]
  },
  {
   "cell_type": "code",
   "execution_count": null,
   "id": "1f6496a1",
   "metadata": {},
   "outputs": [],
   "source": [
    "bill = input(\"what was the total bill?\\n\")\n"
   ]
  },
  {
   "cell_type": "code",
   "execution_count": null,
   "id": "2b264e0c",
   "metadata": {},
   "outputs": [],
   "source": [
    "tip = input(\"How much tip would you like to give? 10, 12, or 15?\\n\")\n"
   ]
  },
  {
   "cell_type": "code",
   "execution_count": null,
   "id": "91c77aef",
   "metadata": {},
   "outputs": [],
   "source": [
    "people = input(\"How many people to split the bill?\\n\")\n"
   ]
  },
  {
   "cell_type": "code",
   "execution_count": null,
   "id": "2aa7b797",
   "metadata": {},
   "outputs": [],
   "source": [
    "tip_dis = int(bill)/100*int(tip)/int(people)  \n"
   ]
  },
  {
   "cell_type": "code",
   "execution_count": null,
   "id": "43719659",
   "metadata": {},
   "outputs": [],
   "source": [
    "final_bill = int(bill) / int(people) + int(tip_dis)\n"
   ]
  },
  {
   "cell_type": "code",
   "execution_count": null,
   "id": "70b4fa5e",
   "metadata": {},
   "outputs": [],
   "source": [
    "final_bill_round = round(final_bill,2)\n"
   ]
  },
  {
   "cell_type": "code",
   "execution_count": null,
   "id": "1aadc997",
   "metadata": {},
   "outputs": [],
   "source": [
    "print(f\"Each person should pay:{final_bill_round}rs.\")"
   ]
  }
 ],
 "metadata": {
  "kernelspec": {
   "display_name": "Python 3 (ipykernel)",
   "language": "python",
   "name": "python3"
  },
  "language_info": {
   "codemirror_mode": {
    "name": "ipython",
    "version": 3
   },
   "file_extension": ".py",
   "mimetype": "text/x-python",
   "name": "python",
   "nbconvert_exporter": "python",
   "pygments_lexer": "ipython3",
   "version": "3.9.12"
  }
 },
 "nbformat": 4,
 "nbformat_minor": 5
}
